{
 "cells": [
  {
   "cell_type": "markdown",
   "metadata": {},
   "source": [
    "#  Applied Data Science Capstone"
   ]
  },
  {
   "cell_type": "markdown",
   "metadata": {},
   "source": [
    "## Information"
   ]
  },
  {
   "cell_type": "markdown",
   "metadata": {},
   "source": [
    "Clearly define a problem or an idea of your choice, where you would need to leverage the Foursquare location data to solve or execute. Remember that data science problems always target an audience and are meant to help a group of stakeholders solve a problem, so make sure that you explicitly describe your audience and why they would care about your problem.\n",
    "\n",
    "This submission will eventually become your Introduction/Business Problem section in your final report. So I recommend that you push the report (having your Introduction/Business Problem section only for now) to your Github repository and submit a link to it.\n",
    "\n",
    "Describe the data that you will be using to solve the problem or execute your idea. Remember that you will need to use the Foursquare location data to solve the problem or execute your idea. You can absolutely use other datasets in combination with the Foursquare location data. So make sure that you provide adequate explanation and discussion, with examples, of the data that you will be using, even if it is only Foursquare location data.\n",
    "\n",
    "This submission will eventually become your Data section in your final report. So I recommend that you push the report (having your Data section) to your Github repository and submit a link to it."
   ]
  },
  {
   "cell_type": "markdown",
   "metadata": {},
   "source": [
    "# Title : Recommender system to suggest relevant venues to users"
   ]
  },
  {
   "cell_type": "markdown",
   "metadata": {},
   "source": [
    "### Description of the problem "
   ]
  },
  {
   "cell_type": "markdown",
   "metadata": {},
   "source": [
    "The aime of this project is to build a personalised recommendater system wich will recommand venues (Bar, restaurant, zoo, events...) to a users, according to their taste, and their location.\n",
    "By mining knowledges from users activity in foursquare API, we intend to answer these typical two questions that we often ask in out daily : \n",
    "- If we want to visit a venue in city such as Paris, where should we go ? \n",
    "- If we want to attend local events such as dramas and exhibitions in a city, which events should we attend? \n",
    "In general, the first question corresponds to venue recommendations, and the second question corresponds to event recommendations.\n",
    "\n",
    "Difficulties : Inferring the user preference by using historical activity is challenging because of two reasons :\n",
    "- 1) First, we can only visit a limited number of venues. This lead to a sparse user-item matrix for most existing location-based recommender system wich directly use collaborative filtering-based method.\n",
    "- 2) Second, the recommendation can be difficult when an user travel to a new city where he does not have any activity history. This issue is called cold start.\n",
    "\n",
    "I have made some research in the scientific litterature and internet on location-based recommender systems, and i found a paper on LCARS: A Location-Content-Aware Recommender System, propose by Hongzhi Yin, Yizhou Sun, Bin Cui, Zhiting Hu, Ling Chen from Department of Computer Science and Technology Key Laboratory of High Confidence Software Technologies, Peking University, College of Computer and Information Science, Northeastern University QCIS, University of Technology, Sydney. The LCARS offers a particular user a set of venues (e.g.,restaurants) or events (e.g., concerts and exhibitions) by giving consideration to both personal interest and local preference."
   ]
  },
  {
   "cell_type": "markdown",
   "metadata": {},
   "source": [
    "### Description of the Data"
   ]
  },
  {
   "cell_type": "markdown",
   "metadata": {},
   "source": [
    "The data Set used for our model learning consists of four elements : users, venues, location and content words associated with the venue.\n",
    "we can get the informations about the venues from the foursquare with the following requests : \n",
    "- GET https://api.foursquare.com/v2/venues/search, that returns a list of venues near the current location, optionally matching a search term.\n",
    "- GET https://api.foursquare.com/v2/venues/VENUE_ID Gives the full details about a venue including location, tips, and categories.\n",
    "\n",
    "we can get the informations about the users activity from the foursquare with the following requests : \n",
    "- GET https://api.foursquare.com/v2/users/USER_ID/lists : Get the users list\n",
    "- GET https://api.foursquare.com/v2/users/USER_ID : Get a User's Details\n",
    "- GET https://api.foursquare.com/v2/users/USER_ID/venuelikes : Get venues a user likes\n",
    "- GET https://api.foursquare.com/v2/users/USER_ID/checkins:Returns a history of checkins for the authenticated user."
   ]
  },
  {
   "cell_type": "markdown",
   "metadata": {},
   "source": [
    "### References"
   ]
  },
  {
   "cell_type": "markdown",
   "metadata": {},
   "source": [
    "- LCARS: A Location-Content-Aware Recommender System : https://www.cs.cmu.edu/~zhitingh/data/kdd13_lcars.pdf\n",
    "- Foursquare API doc : https://developer.foursquare.com/docs/api/endpoints"
   ]
  }
 ],
 "metadata": {
  "kernelspec": {
   "display_name": "Python 3",
   "language": "python",
   "name": "python3"
  },
  "language_info": {
   "codemirror_mode": {
    "name": "ipython",
    "version": 3
   },
   "file_extension": ".py",
   "mimetype": "text/x-python",
   "name": "python",
   "nbconvert_exporter": "python",
   "pygments_lexer": "ipython3",
   "version": "3.6.7"
  }
 },
 "nbformat": 4,
 "nbformat_minor": 2
}
