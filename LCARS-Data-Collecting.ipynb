{
 "cells": [
  {
   "cell_type": "markdown",
   "metadata": {
    "collapsed": true
   },
   "source": [
    "# Data Collecting & Pre-processing"
   ]
  },
  {
   "cell_type": "code",
   "execution_count": 1,
   "metadata": {
    "collapsed": true
   },
   "outputs": [],
   "source": [
    "import pandas as pd\n",
    "import numpy as np\n",
    "import random as rd"
   ]
  },
  {
   "cell_type": "markdown",
   "metadata": {},
   "source": [
    "## K Nearest Neighbors"
   ]
  },
  {
   "cell_type": "markdown",
   "metadata": {},
   "source": [
    "We use neareast neighbors algorithm to determine the city of each venue with its latitude and longitude\n",
    "\n",
    "start by reading File dataset_TIST2015_Cities.txt contains all 415 cities data with 6 columns, which are:\n",
    "1. City name\n",
    "2. Latitude (of City center)\n",
    "3. Longitude (of City center)\n",
    "4. Country code (ISO 3166-1 alpha-2 two-letter country codes)\n",
    "5. Country name\n",
    "6. City type (e.g., national capital, provincial capital)"
   ]
  },
  {
   "cell_type": "code",
   "execution_count": 2,
   "metadata": {},
   "outputs": [
    {
     "data": {
      "text/plain": [
       "(60, 6)"
      ]
     },
     "execution_count": 2,
     "metadata": {},
     "output_type": "execute_result"
    }
   ],
   "source": [
    "cities = pd.read_csv('data/dataset_TIST2015/dataset_TIST2015_Cities.txt', sep='\\t', names=['city','lat',\n",
    "                                                                'long','country_code','country_name','type'])\n",
    "cities_us = cities[cities.country_code == 'US'] \n",
    "cities_us.shape"
   ]
  },
  {
   "cell_type": "code",
   "execution_count": 3,
   "metadata": {},
   "outputs": [
    {
     "data": {
      "text/plain": [
       "[[29.956383000000002, -90.098694], [29.771828999999997, -95.40711]]"
      ]
     },
     "execution_count": 3,
     "metadata": {},
     "output_type": "execute_result"
    }
   ],
   "source": [
    "# Get coordinates\n",
    "coordinates = [[lat,long] for lat,long in zip(cities_us['lat'],cities_us['long'])]\n",
    "coordinates[0:2]"
   ]
  },
  {
   "cell_type": "code",
   "execution_count": 4,
   "metadata": {},
   "outputs": [
    {
     "data": {
      "text/plain": [
       "NearestNeighbors(algorithm='auto', leaf_size=30, metric='minkowski',\n",
       "         metric_params=None, n_jobs=1, n_neighbors=1, p=2, radius=1.0)"
      ]
     },
     "execution_count": 4,
     "metadata": {},
     "output_type": "execute_result"
    }
   ],
   "source": [
    "from sklearn.neighbors import NearestNeighbors\n",
    "knn = NearestNeighbors(n_neighbors=1)\n",
    "knn.fit(coordinates)"
   ]
  },
  {
   "cell_type": "code",
   "execution_count": 5,
   "metadata": {
    "collapsed": true
   },
   "outputs": [],
   "source": [
    "def get_city_name(latitude,longitude):\n",
    "    nn = knn.kneighbors([[latitude,longitude]],return_distance = False)[0]\n",
    "    return cities_us.iloc[nn]['city']"
   ]
  },
  {
   "cell_type": "markdown",
   "metadata": {},
   "source": [
    "## Get US venues data set "
   ]
  },
  {
   "cell_type": "code",
   "execution_count": 6,
   "metadata": {},
   "outputs": [
    {
     "name": "stdout",
     "output_type": "stream",
     "text": [
      "Nb of rows  3680126\n",
      "Number of venues in US : 501900\n"
     ]
    },
    {
     "data": {
      "text/html": [
       "<div>\n",
       "<style scoped>\n",
       "    .dataframe tbody tr th:only-of-type {\n",
       "        vertical-align: middle;\n",
       "    }\n",
       "\n",
       "    .dataframe tbody tr th {\n",
       "        vertical-align: top;\n",
       "    }\n",
       "\n",
       "    .dataframe thead th {\n",
       "        text-align: right;\n",
       "    }\n",
       "</style>\n",
       "<table border=\"1\" class=\"dataframe\">\n",
       "  <thead>\n",
       "    <tr style=\"text-align: right;\">\n",
       "      <th></th>\n",
       "      <th>venue_id</th>\n",
       "      <th>lat</th>\n",
       "      <th>long</th>\n",
       "      <th>category</th>\n",
       "      <th>country_code</th>\n",
       "    </tr>\n",
       "  </thead>\n",
       "  <tbody>\n",
       "    <tr>\n",
       "      <td>0</td>\n",
       "      <td>3fd66200f964a52000e71ee3</td>\n",
       "      <td>40.733596</td>\n",
       "      <td>-74.003139</td>\n",
       "      <td>Jazz Club</td>\n",
       "      <td>US</td>\n",
       "    </tr>\n",
       "    <tr>\n",
       "      <td>1</td>\n",
       "      <td>3fd66200f964a52000e81ee3</td>\n",
       "      <td>40.758102</td>\n",
       "      <td>-73.975734</td>\n",
       "      <td>Gym</td>\n",
       "      <td>US</td>\n",
       "    </tr>\n",
       "    <tr>\n",
       "      <td>2</td>\n",
       "      <td>3fd66200f964a52000ea1ee3</td>\n",
       "      <td>40.732456</td>\n",
       "      <td>-74.003755</td>\n",
       "      <td>Indian Restaurant</td>\n",
       "      <td>US</td>\n",
       "    </tr>\n",
       "    <tr>\n",
       "      <td>3</td>\n",
       "      <td>3fd66200f964a52000ec1ee3</td>\n",
       "      <td>42.345907</td>\n",
       "      <td>-71.087001</td>\n",
       "      <td>Indian Restaurant</td>\n",
       "      <td>US</td>\n",
       "    </tr>\n",
       "    <tr>\n",
       "      <td>4</td>\n",
       "      <td>3fd66200f964a52000ee1ee3</td>\n",
       "      <td>39.933178</td>\n",
       "      <td>-75.159262</td>\n",
       "      <td>Sandwich Place</td>\n",
       "      <td>US</td>\n",
       "    </tr>\n",
       "  </tbody>\n",
       "</table>\n",
       "</div>"
      ],
      "text/plain": [
       "                   venue_id        lat       long           category  \\\n",
       "0  3fd66200f964a52000e71ee3  40.733596 -74.003139          Jazz Club   \n",
       "1  3fd66200f964a52000e81ee3  40.758102 -73.975734                Gym   \n",
       "2  3fd66200f964a52000ea1ee3  40.732456 -74.003755  Indian Restaurant   \n",
       "3  3fd66200f964a52000ec1ee3  42.345907 -71.087001  Indian Restaurant   \n",
       "4  3fd66200f964a52000ee1ee3  39.933178 -75.159262     Sandwich Place   \n",
       "\n",
       "  country_code  \n",
       "0           US  \n",
       "1           US  \n",
       "2           US  \n",
       "3           US  \n",
       "4           US  "
      ]
     },
     "execution_count": 6,
     "metadata": {},
     "output_type": "execute_result"
    }
   ],
   "source": [
    "#loading users data set\n",
    "#DataFrame.from_csv('c:/~/trainSetRel3.txt', sep='\\t')\n",
    "df_venues = pd.read_csv('data/dataset_TIST2015/dataset_TIST2015_POIs.txt', sep='\\t', names=['venue_id','lat','long', 'category','country_code'])\n",
    "print('Nb of rows ',df_venues.shape[0])\n",
    "#we keep only the venues from US\n",
    "df_venues_us = df_venues[df_venues.country_code == 'US']\n",
    "print('Number of venues in US : ' + str(df_venues_us.shape[0]))\n",
    "df_venues_us.head()"
   ]
  },
  {
   "cell_type": "markdown",
   "metadata": {},
   "source": [
    "### Add cities"
   ]
  },
  {
   "cell_type": "code",
   "execution_count": 7,
   "metadata": {},
   "outputs": [
    {
     "data": {
      "text/plain": [
       "501900"
      ]
     },
     "execution_count": 7,
     "metadata": {},
     "output_type": "execute_result"
    }
   ],
   "source": [
    "cities = [get_city_name(lat,long).iloc[0] for lat, long in zip(df_venues_us['lat'],df_venues_us['long'])]\n",
    "df_venues_us['city'] = cities"
   ]
  },
  {
   "cell_type": "markdown",
   "metadata": {},
   "source": [
    "### Get Chicago venues"
   ]
  },
  {
   "cell_type": "code",
   "execution_count": 11,
   "metadata": {},
   "outputs": [
    {
     "name": "stdout",
     "output_type": "stream",
     "text": [
      "(21949, 6)\n"
     ]
    },
    {
     "data": {
      "text/html": [
       "<div>\n",
       "<style scoped>\n",
       "    .dataframe tbody tr th:only-of-type {\n",
       "        vertical-align: middle;\n",
       "    }\n",
       "\n",
       "    .dataframe tbody tr th {\n",
       "        vertical-align: top;\n",
       "    }\n",
       "\n",
       "    .dataframe thead th {\n",
       "        text-align: right;\n",
       "    }\n",
       "</style>\n",
       "<table border=\"1\" class=\"dataframe\">\n",
       "  <thead>\n",
       "    <tr style=\"text-align: right;\">\n",
       "      <th></th>\n",
       "      <th>venue_id</th>\n",
       "      <th>lat</th>\n",
       "      <th>long</th>\n",
       "      <th>category</th>\n",
       "      <th>country_code</th>\n",
       "      <th>city</th>\n",
       "    </tr>\n",
       "  </thead>\n",
       "  <tbody>\n",
       "    <tr>\n",
       "      <td>12</td>\n",
       "      <td>3fd66200f964a52002ee1ee3</td>\n",
       "      <td>41.941562</td>\n",
       "      <td>-87.664011</td>\n",
       "      <td>Pub</td>\n",
       "      <td>US</td>\n",
       "      <td>Chicago</td>\n",
       "    </tr>\n",
       "    <tr>\n",
       "      <td>67</td>\n",
       "      <td>3fd66200f964a5200cee1ee3</td>\n",
       "      <td>41.939824</td>\n",
       "      <td>-87.663895</td>\n",
       "      <td>Asian Restaurant</td>\n",
       "      <td>US</td>\n",
       "      <td>Chicago</td>\n",
       "    </tr>\n",
       "    <tr>\n",
       "      <td>73</td>\n",
       "      <td>3fd66200f964a5200dee1ee3</td>\n",
       "      <td>41.935361</td>\n",
       "      <td>-87.662638</td>\n",
       "      <td>Steakhouse</td>\n",
       "      <td>US</td>\n",
       "      <td>Chicago</td>\n",
       "    </tr>\n",
       "    <tr>\n",
       "      <td>91</td>\n",
       "      <td>3fd66200f964a52010f11ee3</td>\n",
       "      <td>41.919532</td>\n",
       "      <td>-87.677331</td>\n",
       "      <td>Bar</td>\n",
       "      <td>US</td>\n",
       "      <td>Chicago</td>\n",
       "    </tr>\n",
       "    <tr>\n",
       "      <td>129</td>\n",
       "      <td>3fd66200f964a52016ee1ee3</td>\n",
       "      <td>41.938006</td>\n",
       "      <td>-87.671027</td>\n",
       "      <td>Bar</td>\n",
       "      <td>US</td>\n",
       "      <td>Chicago</td>\n",
       "    </tr>\n",
       "  </tbody>\n",
       "</table>\n",
       "</div>"
      ],
      "text/plain": [
       "                     venue_id        lat       long          category  \\\n",
       "12   3fd66200f964a52002ee1ee3  41.941562 -87.664011               Pub   \n",
       "67   3fd66200f964a5200cee1ee3  41.939824 -87.663895  Asian Restaurant   \n",
       "73   3fd66200f964a5200dee1ee3  41.935361 -87.662638        Steakhouse   \n",
       "91   3fd66200f964a52010f11ee3  41.919532 -87.677331               Bar   \n",
       "129  3fd66200f964a52016ee1ee3  41.938006 -87.671027               Bar   \n",
       "\n",
       "    country_code     city  \n",
       "12            US  Chicago  \n",
       "67            US  Chicago  \n",
       "73            US  Chicago  \n",
       "91            US  Chicago  \n",
       "129           US  Chicago  "
      ]
     },
     "execution_count": 11,
     "metadata": {},
     "output_type": "execute_result"
    }
   ],
   "source": [
    "df_venues_chicago = df_venues_us[df_venues_us.city == 'Chicago']\n",
    "print(df_venues_chicago.shape)\n",
    "df_venues_chicago.head()"
   ]
  },
  {
   "cell_type": "markdown",
   "metadata": {},
   "source": [
    "### Get New York venues"
   ]
  },
  {
   "cell_type": "code",
   "execution_count": 12,
   "metadata": {},
   "outputs": [
    {
     "name": "stdout",
     "output_type": "stream",
     "text": [
      "(33680, 6)\n"
     ]
    },
    {
     "data": {
      "text/html": [
       "<div>\n",
       "<style scoped>\n",
       "    .dataframe tbody tr th:only-of-type {\n",
       "        vertical-align: middle;\n",
       "    }\n",
       "\n",
       "    .dataframe tbody tr th {\n",
       "        vertical-align: top;\n",
       "    }\n",
       "\n",
       "    .dataframe thead th {\n",
       "        text-align: right;\n",
       "    }\n",
       "</style>\n",
       "<table border=\"1\" class=\"dataframe\">\n",
       "  <thead>\n",
       "    <tr style=\"text-align: right;\">\n",
       "      <th></th>\n",
       "      <th>venue_id</th>\n",
       "      <th>lat</th>\n",
       "      <th>long</th>\n",
       "      <th>category</th>\n",
       "      <th>country_code</th>\n",
       "      <th>city</th>\n",
       "    </tr>\n",
       "  </thead>\n",
       "  <tbody>\n",
       "    <tr>\n",
       "      <td>1</td>\n",
       "      <td>3fd66200f964a52000e81ee3</td>\n",
       "      <td>40.758102</td>\n",
       "      <td>-73.975734</td>\n",
       "      <td>Gym</td>\n",
       "      <td>US</td>\n",
       "      <td>New York</td>\n",
       "    </tr>\n",
       "    <tr>\n",
       "      <td>7</td>\n",
       "      <td>3fd66200f964a52001e81ee3</td>\n",
       "      <td>40.756353</td>\n",
       "      <td>-73.967676</td>\n",
       "      <td>Bar</td>\n",
       "      <td>US</td>\n",
       "      <td>New York</td>\n",
       "    </tr>\n",
       "    <tr>\n",
       "      <td>16</td>\n",
       "      <td>3fd66200f964a52003e81ee3</td>\n",
       "      <td>40.756119</td>\n",
       "      <td>-73.972532</td>\n",
       "      <td>Hotel Bar</td>\n",
       "      <td>US</td>\n",
       "      <td>New York</td>\n",
       "    </tr>\n",
       "    <tr>\n",
       "      <td>21</td>\n",
       "      <td>3fd66200f964a52004e81ee3</td>\n",
       "      <td>40.756048</td>\n",
       "      <td>-73.967762</td>\n",
       "      <td>Pub</td>\n",
       "      <td>US</td>\n",
       "      <td>New York</td>\n",
       "    </tr>\n",
       "    <tr>\n",
       "      <td>26</td>\n",
       "      <td>3fd66200f964a52005e81ee3</td>\n",
       "      <td>40.756161</td>\n",
       "      <td>-73.967686</td>\n",
       "      <td>Pub</td>\n",
       "      <td>US</td>\n",
       "      <td>New York</td>\n",
       "    </tr>\n",
       "  </tbody>\n",
       "</table>\n",
       "</div>"
      ],
      "text/plain": [
       "                    venue_id        lat       long   category country_code  \\\n",
       "1   3fd66200f964a52000e81ee3  40.758102 -73.975734        Gym           US   \n",
       "7   3fd66200f964a52001e81ee3  40.756353 -73.967676        Bar           US   \n",
       "16  3fd66200f964a52003e81ee3  40.756119 -73.972532  Hotel Bar           US   \n",
       "21  3fd66200f964a52004e81ee3  40.756048 -73.967762        Pub           US   \n",
       "26  3fd66200f964a52005e81ee3  40.756161 -73.967686        Pub           US   \n",
       "\n",
       "        city  \n",
       "1   New York  \n",
       "7   New York  \n",
       "16  New York  \n",
       "21  New York  \n",
       "26  New York  "
      ]
     },
     "execution_count": 12,
     "metadata": {},
     "output_type": "execute_result"
    }
   ],
   "source": [
    "df_venues_nyc = df_venues_us[df_venues_us.city == 'New York']\n",
    "print(df_venues_nyc.shape)\n",
    "df_venues_nyc.head()"
   ]
  },
  {
   "cell_type": "markdown",
   "metadata": {},
   "source": [
    "### Get Boston venues"
   ]
  },
  {
   "cell_type": "code",
   "execution_count": 13,
   "metadata": {},
   "outputs": [
    {
     "name": "stdout",
     "output_type": "stream",
     "text": [
      "(14445, 6)\n"
     ]
    },
    {
     "data": {
      "text/html": [
       "<div>\n",
       "<style scoped>\n",
       "    .dataframe tbody tr th:only-of-type {\n",
       "        vertical-align: middle;\n",
       "    }\n",
       "\n",
       "    .dataframe tbody tr th {\n",
       "        vertical-align: top;\n",
       "    }\n",
       "\n",
       "    .dataframe thead th {\n",
       "        text-align: right;\n",
       "    }\n",
       "</style>\n",
       "<table border=\"1\" class=\"dataframe\">\n",
       "  <thead>\n",
       "    <tr style=\"text-align: right;\">\n",
       "      <th></th>\n",
       "      <th>venue_id</th>\n",
       "      <th>lat</th>\n",
       "      <th>long</th>\n",
       "      <th>category</th>\n",
       "      <th>country_code</th>\n",
       "      <th>city</th>\n",
       "    </tr>\n",
       "  </thead>\n",
       "  <tbody>\n",
       "    <tr>\n",
       "      <td>3</td>\n",
       "      <td>3fd66200f964a52000ec1ee3</td>\n",
       "      <td>42.345907</td>\n",
       "      <td>-71.087001</td>\n",
       "      <td>Indian Restaurant</td>\n",
       "      <td>US</td>\n",
       "      <td>Boston</td>\n",
       "    </tr>\n",
       "    <tr>\n",
       "      <td>17</td>\n",
       "      <td>3fd66200f964a52003ec1ee3</td>\n",
       "      <td>42.346127</td>\n",
       "      <td>-71.080363</td>\n",
       "      <td>French Restaurant</td>\n",
       "      <td>US</td>\n",
       "      <td>Boston</td>\n",
       "    </tr>\n",
       "    <tr>\n",
       "      <td>48</td>\n",
       "      <td>3fd66200f964a52008ec1ee3</td>\n",
       "      <td>42.348212</td>\n",
       "      <td>-71.085207</td>\n",
       "      <td>Mexican Restaurant</td>\n",
       "      <td>US</td>\n",
       "      <td>Boston</td>\n",
       "    </tr>\n",
       "    <tr>\n",
       "      <td>60</td>\n",
       "      <td>3fd66200f964a5200aec1ee3</td>\n",
       "      <td>42.251665</td>\n",
       "      <td>-71.037348</td>\n",
       "      <td>French Restaurant</td>\n",
       "      <td>US</td>\n",
       "      <td>Boston</td>\n",
       "    </tr>\n",
       "    <tr>\n",
       "      <td>63</td>\n",
       "      <td>3fd66200f964a5200bec1ee3</td>\n",
       "      <td>42.348751</td>\n",
       "      <td>-71.083938</td>\n",
       "      <td>Middle Eastern Restaurant</td>\n",
       "      <td>US</td>\n",
       "      <td>Boston</td>\n",
       "    </tr>\n",
       "  </tbody>\n",
       "</table>\n",
       "</div>"
      ],
      "text/plain": [
       "                    venue_id        lat       long                   category  \\\n",
       "3   3fd66200f964a52000ec1ee3  42.345907 -71.087001          Indian Restaurant   \n",
       "17  3fd66200f964a52003ec1ee3  42.346127 -71.080363          French Restaurant   \n",
       "48  3fd66200f964a52008ec1ee3  42.348212 -71.085207         Mexican Restaurant   \n",
       "60  3fd66200f964a5200aec1ee3  42.251665 -71.037348          French Restaurant   \n",
       "63  3fd66200f964a5200bec1ee3  42.348751 -71.083938  Middle Eastern Restaurant   \n",
       "\n",
       "   country_code    city  \n",
       "3            US  Boston  \n",
       "17           US  Boston  \n",
       "48           US  Boston  \n",
       "60           US  Boston  \n",
       "63           US  Boston  "
      ]
     },
     "execution_count": 13,
     "metadata": {},
     "output_type": "execute_result"
    }
   ],
   "source": [
    "df_venues_boston = df_venues_us[df_venues_us.city == 'Boston']\n",
    "print(df_venues_boston.shape)\n",
    "df_venues_boston.head()"
   ]
  },
  {
   "cell_type": "markdown",
   "metadata": {
    "collapsed": true
   },
   "source": [
    "## Create User Profile Du, wich is a set of four tuples (i.e u,v,lv,cv)"
   ]
  },
  {
   "cell_type": "code",
   "execution_count": 14,
   "metadata": {},
   "outputs": [
    {
     "name": "stdout",
     "output_type": "stream",
     "text": [
      "(33263633, 4)\n"
     ]
    },
    {
     "data": {
      "text/html": [
       "<div>\n",
       "<style scoped>\n",
       "    .dataframe tbody tr th:only-of-type {\n",
       "        vertical-align: middle;\n",
       "    }\n",
       "\n",
       "    .dataframe tbody tr th {\n",
       "        vertical-align: top;\n",
       "    }\n",
       "\n",
       "    .dataframe thead th {\n",
       "        text-align: right;\n",
       "    }\n",
       "</style>\n",
       "<table border=\"1\" class=\"dataframe\">\n",
       "  <thead>\n",
       "    <tr style=\"text-align: right;\">\n",
       "      <th></th>\n",
       "      <th>user_id</th>\n",
       "      <th>venue_id</th>\n",
       "      <th>utc</th>\n",
       "      <th>timezone</th>\n",
       "    </tr>\n",
       "  </thead>\n",
       "  <tbody>\n",
       "    <tr>\n",
       "      <td>0</td>\n",
       "      <td>50756</td>\n",
       "      <td>4f5e3a72e4b053fd6a4313f6</td>\n",
       "      <td>Tue Apr 03 18:00:06 +0000 2012</td>\n",
       "      <td>240</td>\n",
       "    </tr>\n",
       "    <tr>\n",
       "      <td>1</td>\n",
       "      <td>190571</td>\n",
       "      <td>4b4b87b5f964a5204a9f26e3</td>\n",
       "      <td>Tue Apr 03 18:00:07 +0000 2012</td>\n",
       "      <td>180</td>\n",
       "    </tr>\n",
       "    <tr>\n",
       "      <td>2</td>\n",
       "      <td>221021</td>\n",
       "      <td>4a85b1b3f964a520eefe1fe3</td>\n",
       "      <td>Tue Apr 03 18:00:08 +0000 2012</td>\n",
       "      <td>-240</td>\n",
       "    </tr>\n",
       "    <tr>\n",
       "      <td>3</td>\n",
       "      <td>66981</td>\n",
       "      <td>4b4606f2f964a520751426e3</td>\n",
       "      <td>Tue Apr 03 18:00:08 +0000 2012</td>\n",
       "      <td>-300</td>\n",
       "    </tr>\n",
       "    <tr>\n",
       "      <td>4</td>\n",
       "      <td>21010</td>\n",
       "      <td>4c2b4e8a9a559c74832f0de2</td>\n",
       "      <td>Tue Apr 03 18:00:09 +0000 2012</td>\n",
       "      <td>240</td>\n",
       "    </tr>\n",
       "  </tbody>\n",
       "</table>\n",
       "</div>"
      ],
      "text/plain": [
       "   user_id                  venue_id                             utc  timezone\n",
       "0    50756  4f5e3a72e4b053fd6a4313f6  Tue Apr 03 18:00:06 +0000 2012       240\n",
       "1   190571  4b4b87b5f964a5204a9f26e3  Tue Apr 03 18:00:07 +0000 2012       180\n",
       "2   221021  4a85b1b3f964a520eefe1fe3  Tue Apr 03 18:00:08 +0000 2012      -240\n",
       "3    66981  4b4606f2f964a520751426e3  Tue Apr 03 18:00:08 +0000 2012      -300\n",
       "4    21010  4c2b4e8a9a559c74832f0de2  Tue Apr 03 18:00:09 +0000 2012       240"
      ]
     },
     "execution_count": 14,
     "metadata": {},
     "output_type": "execute_result"
    }
   ],
   "source": [
    "df_checkins = pd.read_csv('./data/dataset_TIST2015/dataset_TIST2015_Checkins.txt',sep='\\t', names=['user_id','venue_id','utc','timezone'])\n",
    "print(df_checkins.shape)\n",
    "df_checkins.head()"
   ]
  },
  {
   "cell_type": "markdown",
   "metadata": {},
   "source": [
    "### User profiles Chicago"
   ]
  },
  {
   "cell_type": "code",
   "execution_count": 18,
   "metadata": {},
   "outputs": [
    {
     "name": "stdout",
     "output_type": "stream",
     "text": [
      "User profiles Chicago : \n",
      "Nb of ui (rows) in user_profile :  184873\n",
      "After droping duplicates...\n",
      "Nb of ui (rows) in user_profile :  95464\n",
      "\n",
      "Nb of unique users :  6885\n"
     ]
    },
    {
     "data": {
      "text/html": [
       "<div>\n",
       "<style scoped>\n",
       "    .dataframe tbody tr th:only-of-type {\n",
       "        vertical-align: middle;\n",
       "    }\n",
       "\n",
       "    .dataframe tbody tr th {\n",
       "        vertical-align: top;\n",
       "    }\n",
       "\n",
       "    .dataframe thead th {\n",
       "        text-align: right;\n",
       "    }\n",
       "</style>\n",
       "<table border=\"1\" class=\"dataframe\">\n",
       "  <thead>\n",
       "    <tr style=\"text-align: right;\">\n",
       "      <th></th>\n",
       "      <th>user_id</th>\n",
       "      <th>venue_id</th>\n",
       "      <th>category</th>\n",
       "      <th>city</th>\n",
       "    </tr>\n",
       "  </thead>\n",
       "  <tbody>\n",
       "    <tr>\n",
       "      <td>0</td>\n",
       "      <td>163570</td>\n",
       "      <td>4b2277b1f964a5203f4724e3</td>\n",
       "      <td>Conference Room</td>\n",
       "      <td>Chicago</td>\n",
       "    </tr>\n",
       "    <tr>\n",
       "      <td>2</td>\n",
       "      <td>15134</td>\n",
       "      <td>4b2277b1f964a5203f4724e3</td>\n",
       "      <td>Conference Room</td>\n",
       "      <td>Chicago</td>\n",
       "    </tr>\n",
       "    <tr>\n",
       "      <td>4</td>\n",
       "      <td>44228</td>\n",
       "      <td>4a95f126f964a520952520e3</td>\n",
       "      <td>Train Station</td>\n",
       "      <td>Chicago</td>\n",
       "    </tr>\n",
       "    <tr>\n",
       "      <td>5</td>\n",
       "      <td>114729</td>\n",
       "      <td>4a95f126f964a520952520e3</td>\n",
       "      <td>Train Station</td>\n",
       "      <td>Chicago</td>\n",
       "    </tr>\n",
       "    <tr>\n",
       "      <td>7</td>\n",
       "      <td>64372</td>\n",
       "      <td>4a95f126f964a520952520e3</td>\n",
       "      <td>Train Station</td>\n",
       "      <td>Chicago</td>\n",
       "    </tr>\n",
       "  </tbody>\n",
       "</table>\n",
       "</div>"
      ],
      "text/plain": [
       "   user_id                  venue_id         category     city\n",
       "0   163570  4b2277b1f964a5203f4724e3  Conference Room  Chicago\n",
       "2    15134  4b2277b1f964a5203f4724e3  Conference Room  Chicago\n",
       "4    44228  4a95f126f964a520952520e3    Train Station  Chicago\n",
       "5   114729  4a95f126f964a520952520e3    Train Station  Chicago\n",
       "7    64372  4a95f126f964a520952520e3    Train Station  Chicago"
      ]
     },
     "execution_count": 18,
     "metadata": {},
     "output_type": "execute_result"
    }
   ],
   "source": [
    "print('User profiles Chicago : ' )\n",
    "user_profiles_chicago = df_checkins[['user_id','venue_id']].merge(\n",
    "    df_venues_chicago[['venue_id','category','city']], how='inner', on='venue_id')\n",
    "print('Nb of ui (rows) in user_profile : ', user_profiles_chicago.shape[0])\n",
    "user_profiles_chicago = user_profiles_chicago.drop_duplicates()\n",
    "print('After droping duplicates...')\n",
    "print('Nb of ui (rows) in user_profile : ', user_profiles_chicago.shape[0])\n",
    "print('\\nNb of unique users : ', len(np.unique(user_profiles_chicago['user_id'])))\n",
    "user_profiles_chicago.head()"
   ]
  },
  {
   "cell_type": "markdown",
   "metadata": {},
   "source": [
    "### User profiles New York"
   ]
  },
  {
   "cell_type": "code",
   "execution_count": 19,
   "metadata": {},
   "outputs": [
    {
     "name": "stdout",
     "output_type": "stream",
     "text": [
      "User profiles New York : \n",
      "Nb of ui (rows) in user_profile :  279827\n",
      "After droping duplicates...\n",
      "Nb of ui (rows) in user_profile :  147281\n",
      "\n",
      "Nb of unique users :  14516\n"
     ]
    },
    {
     "data": {
      "text/html": [
       "<div>\n",
       "<style scoped>\n",
       "    .dataframe tbody tr th:only-of-type {\n",
       "        vertical-align: middle;\n",
       "    }\n",
       "\n",
       "    .dataframe tbody tr th {\n",
       "        vertical-align: top;\n",
       "    }\n",
       "\n",
       "    .dataframe thead th {\n",
       "        text-align: right;\n",
       "    }\n",
       "</style>\n",
       "<table border=\"1\" class=\"dataframe\">\n",
       "  <thead>\n",
       "    <tr style=\"text-align: right;\">\n",
       "      <th></th>\n",
       "      <th>user_id</th>\n",
       "      <th>venue_id</th>\n",
       "      <th>category</th>\n",
       "      <th>city</th>\n",
       "    </tr>\n",
       "  </thead>\n",
       "  <tbody>\n",
       "    <tr>\n",
       "      <td>0</td>\n",
       "      <td>49932</td>\n",
       "      <td>4b1d4b75f964a520560e24e3</td>\n",
       "      <td>Department Store</td>\n",
       "      <td>New York</td>\n",
       "    </tr>\n",
       "    <tr>\n",
       "      <td>1</td>\n",
       "      <td>46376</td>\n",
       "      <td>4b1d4b75f964a520560e24e3</td>\n",
       "      <td>Department Store</td>\n",
       "      <td>New York</td>\n",
       "    </tr>\n",
       "    <tr>\n",
       "      <td>2</td>\n",
       "      <td>20494</td>\n",
       "      <td>4b1d4b75f964a520560e24e3</td>\n",
       "      <td>Department Store</td>\n",
       "      <td>New York</td>\n",
       "    </tr>\n",
       "    <tr>\n",
       "      <td>3</td>\n",
       "      <td>134066</td>\n",
       "      <td>4b1d4b75f964a520560e24e3</td>\n",
       "      <td>Department Store</td>\n",
       "      <td>New York</td>\n",
       "    </tr>\n",
       "    <tr>\n",
       "      <td>4</td>\n",
       "      <td>97899</td>\n",
       "      <td>4b1d4b75f964a520560e24e3</td>\n",
       "      <td>Department Store</td>\n",
       "      <td>New York</td>\n",
       "    </tr>\n",
       "  </tbody>\n",
       "</table>\n",
       "</div>"
      ],
      "text/plain": [
       "   user_id                  venue_id          category      city\n",
       "0    49932  4b1d4b75f964a520560e24e3  Department Store  New York\n",
       "1    46376  4b1d4b75f964a520560e24e3  Department Store  New York\n",
       "2    20494  4b1d4b75f964a520560e24e3  Department Store  New York\n",
       "3   134066  4b1d4b75f964a520560e24e3  Department Store  New York\n",
       "4    97899  4b1d4b75f964a520560e24e3  Department Store  New York"
      ]
     },
     "execution_count": 19,
     "metadata": {},
     "output_type": "execute_result"
    }
   ],
   "source": [
    "print('User profiles New York : ' )\n",
    "user_profiles_nyc = df_checkins[['user_id','venue_id']].merge(\n",
    "    df_venues_nyc[['venue_id','category','city']], how='inner', on='venue_id')\n",
    "print('Nb of ui (rows) in user_profile : ', user_profiles_nyc.shape[0])\n",
    "user_profiles_nyc = user_profiles_nyc.drop_duplicates()\n",
    "print('After droping duplicates...')\n",
    "print('Nb of ui (rows) in user_profile : ', user_profiles_nyc.shape[0])\n",
    "print('\\nNb of unique users : ', len(np.unique(user_profiles_nyc['user_id'])))\n",
    "user_profiles_nyc.head()"
   ]
  },
  {
   "cell_type": "markdown",
   "metadata": {},
   "source": [
    "### User profiles Boston"
   ]
  },
  {
   "cell_type": "code",
   "execution_count": 20,
   "metadata": {},
   "outputs": [
    {
     "name": "stdout",
     "output_type": "stream",
     "text": [
      "User profiles Boston : \n",
      "Nb of ui (rows) in user_profile :  104228\n",
      "After droping duplicates...\n",
      "Nb of ui (rows) in user_profile :  55315\n",
      "\n",
      "Nb of unique users :  4595\n"
     ]
    },
    {
     "data": {
      "text/html": [
       "<div>\n",
       "<style scoped>\n",
       "    .dataframe tbody tr th:only-of-type {\n",
       "        vertical-align: middle;\n",
       "    }\n",
       "\n",
       "    .dataframe tbody tr th {\n",
       "        vertical-align: top;\n",
       "    }\n",
       "\n",
       "    .dataframe thead th {\n",
       "        text-align: right;\n",
       "    }\n",
       "</style>\n",
       "<table border=\"1\" class=\"dataframe\">\n",
       "  <thead>\n",
       "    <tr style=\"text-align: right;\">\n",
       "      <th></th>\n",
       "      <th>user_id</th>\n",
       "      <th>venue_id</th>\n",
       "      <th>category</th>\n",
       "      <th>city</th>\n",
       "    </tr>\n",
       "  </thead>\n",
       "  <tbody>\n",
       "    <tr>\n",
       "      <td>0</td>\n",
       "      <td>180962</td>\n",
       "      <td>4b3be5b9f964a520e37d25e3</td>\n",
       "      <td>Bar</td>\n",
       "      <td>Boston</td>\n",
       "    </tr>\n",
       "    <tr>\n",
       "      <td>1</td>\n",
       "      <td>38722</td>\n",
       "      <td>4b3be5b9f964a520e37d25e3</td>\n",
       "      <td>Bar</td>\n",
       "      <td>Boston</td>\n",
       "    </tr>\n",
       "    <tr>\n",
       "      <td>5</td>\n",
       "      <td>93711</td>\n",
       "      <td>4b3be5b9f964a520e37d25e3</td>\n",
       "      <td>Bar</td>\n",
       "      <td>Boston</td>\n",
       "    </tr>\n",
       "    <tr>\n",
       "      <td>6</td>\n",
       "      <td>68294</td>\n",
       "      <td>4b3be5b9f964a520e37d25e3</td>\n",
       "      <td>Bar</td>\n",
       "      <td>Boston</td>\n",
       "    </tr>\n",
       "    <tr>\n",
       "      <td>7</td>\n",
       "      <td>101835</td>\n",
       "      <td>4b3be5b9f964a520e37d25e3</td>\n",
       "      <td>Bar</td>\n",
       "      <td>Boston</td>\n",
       "    </tr>\n",
       "  </tbody>\n",
       "</table>\n",
       "</div>"
      ],
      "text/plain": [
       "   user_id                  venue_id category    city\n",
       "0   180962  4b3be5b9f964a520e37d25e3      Bar  Boston\n",
       "1    38722  4b3be5b9f964a520e37d25e3      Bar  Boston\n",
       "5    93711  4b3be5b9f964a520e37d25e3      Bar  Boston\n",
       "6    68294  4b3be5b9f964a520e37d25e3      Bar  Boston\n",
       "7   101835  4b3be5b9f964a520e37d25e3      Bar  Boston"
      ]
     },
     "execution_count": 20,
     "metadata": {},
     "output_type": "execute_result"
    }
   ],
   "source": [
    "print('User profiles Boston : ' )\n",
    "user_profiles_boston = df_checkins[['user_id','venue_id']].merge(\n",
    "    df_venues_boston[['venue_id','category','city']], how='inner', on='venue_id')\n",
    "print('Nb of ui (rows) in user_profile : ', user_profiles_boston.shape[0])\n",
    "user_profiles_boston = user_profiles_boston.drop_duplicates()\n",
    "print('After droping duplicates...')\n",
    "print('Nb of ui (rows) in user_profile : ', user_profiles_boston.shape[0])\n",
    "print('\\nNb of unique users : ', len(np.unique(user_profiles_boston['user_id'])))\n",
    "user_profiles_boston.head()"
   ]
  },
  {
   "cell_type": "markdown",
   "metadata": {},
   "source": [
    "### User profiles : get a sample"
   ]
  },
  {
   "cell_type": "code",
   "execution_count": 26,
   "metadata": {},
   "outputs": [
    {
     "name": "stdout",
     "output_type": "stream",
     "text": [
      "sample_boston :  4500\n",
      "sample_chi :  4500\n",
      "sample_nyc :  4500\n"
     ]
    }
   ],
   "source": [
    "\n",
    "nb_of_users = 4500\n",
    "# Select a sample of random users from each city :\n",
    "# There is less checkin per users in Chicago, so we take more users to palliate data sparsity\n",
    "sample_boston = list(rd.sample(list(np.unique(user_profiles_boston['user_id'])),nb_of_users))\n",
    "sample_chi = list(rd.sample(list(np.unique(user_profiles_chicago['user_id'])), nb_of_users))\n",
    "sample_nyc = list(rd.sample(list(np.unique(user_profiles_nyc['user_id'])),nb_of_users))\n",
    "\n",
    "print('sample_boston : ', len(sample_boston))\n",
    "print('sample_chi : ', len(sample_chi))\n",
    "print('sample_nyc : ', len(sample_nyc))"
   ]
  },
  {
   "cell_type": "raw",
   "metadata": {},
   "source": [
    "sample_chi = list(rd.sample(list(np.unique(user_profiles_chicago[\n",
    "    user_profiles_chicago.user_id.isin(list_nyc_chi) == False]['user_id'])),\n",
    "                            nb_of_users))\n"
   ]
  },
  {
   "cell_type": "code",
   "execution_count": 27,
   "metadata": {},
   "outputs": [
    {
     "name": "stdout",
     "output_type": "stream",
     "text": [
      "(161468, 4)\n"
     ]
    },
    {
     "data": {
      "text/html": [
       "<div>\n",
       "<style scoped>\n",
       "    .dataframe tbody tr th:only-of-type {\n",
       "        vertical-align: middle;\n",
       "    }\n",
       "\n",
       "    .dataframe tbody tr th {\n",
       "        vertical-align: top;\n",
       "    }\n",
       "\n",
       "    .dataframe thead th {\n",
       "        text-align: right;\n",
       "    }\n",
       "</style>\n",
       "<table border=\"1\" class=\"dataframe\">\n",
       "  <thead>\n",
       "    <tr style=\"text-align: right;\">\n",
       "      <th></th>\n",
       "      <th>user_id</th>\n",
       "      <th>venue_id</th>\n",
       "      <th>category</th>\n",
       "      <th>city</th>\n",
       "    </tr>\n",
       "  </thead>\n",
       "  <tbody>\n",
       "    <tr>\n",
       "      <td>0</td>\n",
       "      <td>180962</td>\n",
       "      <td>4b3be5b9f964a520e37d25e3</td>\n",
       "      <td>Bar</td>\n",
       "      <td>Boston</td>\n",
       "    </tr>\n",
       "    <tr>\n",
       "      <td>1</td>\n",
       "      <td>38722</td>\n",
       "      <td>4b3be5b9f964a520e37d25e3</td>\n",
       "      <td>Bar</td>\n",
       "      <td>Boston</td>\n",
       "    </tr>\n",
       "    <tr>\n",
       "      <td>2</td>\n",
       "      <td>93711</td>\n",
       "      <td>4b3be5b9f964a520e37d25e3</td>\n",
       "      <td>Bar</td>\n",
       "      <td>Boston</td>\n",
       "    </tr>\n",
       "    <tr>\n",
       "      <td>3</td>\n",
       "      <td>68294</td>\n",
       "      <td>4b3be5b9f964a520e37d25e3</td>\n",
       "      <td>Bar</td>\n",
       "      <td>Boston</td>\n",
       "    </tr>\n",
       "    <tr>\n",
       "      <td>4</td>\n",
       "      <td>101835</td>\n",
       "      <td>4b3be5b9f964a520e37d25e3</td>\n",
       "      <td>Bar</td>\n",
       "      <td>Boston</td>\n",
       "    </tr>\n",
       "  </tbody>\n",
       "</table>\n",
       "</div>"
      ],
      "text/plain": [
       "   user_id                  venue_id category    city\n",
       "0   180962  4b3be5b9f964a520e37d25e3      Bar  Boston\n",
       "1    38722  4b3be5b9f964a520e37d25e3      Bar  Boston\n",
       "2    93711  4b3be5b9f964a520e37d25e3      Bar  Boston\n",
       "3    68294  4b3be5b9f964a520e37d25e3      Bar  Boston\n",
       "4   101835  4b3be5b9f964a520e37d25e3      Bar  Boston"
      ]
     },
     "execution_count": 27,
     "metadata": {},
     "output_type": "execute_result"
    }
   ],
   "source": [
    "# Gather all three dataframe together\n",
    "df_user_profiles = pd.concat(\n",
    "    [user_profiles_boston[user_profiles_boston.user_id.isin(sample_boston)],\n",
    "    user_profiles_chicago[user_profiles_chicago.user_id.isin(sample_chi)],\n",
    "    user_profiles_nyc[user_profiles_nyc.user_id.isin(sample_nyc)]], ignore_index = True\n",
    ")\n",
    "print(df_user_profiles.shape)\n",
    "df_user_profiles.head()"
   ]
  },
  {
   "cell_type": "code",
   "execution_count": 50,
   "metadata": {
    "collapsed": true
   },
   "outputs": [],
   "source": [
    "df_user_profiles.to_csv('data/df_user_profiles_us.csv', index=False)"
   ]
  },
  {
   "cell_type": "markdown",
   "metadata": {},
   "source": [
    "## Data analysis and wranlging other user profile dataset "
   ]
  },
  {
   "cell_type": "markdown",
   "metadata": {},
   "source": [
    "### Number of venues per user"
   ]
  },
  {
   "cell_type": "code",
   "execution_count": 45,
   "metadata": {},
   "outputs": [
    {
     "name": "stdout",
     "output_type": "stream",
     "text": [
      "Number of venues per user in Chicago :  13.627333333333333\n",
      "Number of venues per user in Boston :  12.062\n",
      "Number of venues per user in New York :  10.192444444444444\n"
     ]
    }
   ],
   "source": [
    "chi_mean_per_user = df_user_profiles[df_user_profiles.city \n",
    "                                     == 'Chicago'][['user_id','venue_id']].groupby(['user_id']).count().mean().iloc[0]\n",
    "nyc_mean_per_user = df_user_profiles[df_user_profiles.city \n",
    "                                     == 'New York'][['user_id','venue_id']].groupby(['user_id']).count().mean().iloc[0]\n",
    "bos_mean_per_user = df_user_profiles[df_user_profiles.city \n",
    "                                     == 'Boston'][['user_id','venue_id']].groupby(['user_id']).count().mean().iloc[0]\n",
    "\n",
    "\n",
    "print(\"Number of venues per user in Chicago : \", chi_mean_per_user)\n",
    "print(\"Number of venues per user in Boston : \", bos_mean_per_user)\n",
    "print(\"Number of venues per user in New York : \", nyc_mean_per_user)\n"
   ]
  },
  {
   "cell_type": "markdown",
   "metadata": {},
   "source": [
    "### Travelling users"
   ]
  },
  {
   "cell_type": "code",
   "execution_count": 48,
   "metadata": {},
   "outputs": [
    {
     "name": "stdout",
     "output_type": "stream",
     "text": [
      "415 users traveled in both Chicago and New York City\n",
      "716 users traveled in both Boston and New York City\n",
      "586 users traveled in both Boston and Chicago\n"
     ]
    }
   ],
   "source": [
    "# keep a list of user id that have been visited both Nyc and Chicago\n",
    "list_nyc_chi = np.unique(list(df_user_profiles[df_user_profiles.city == 'Chicago'].merge(\n",
    "    df_user_profiles[df_user_profiles.city == 'New York'][['user_id']], on='user_id',how='inner')['user_id']))\n",
    "\n",
    "# keep a list of user id that have been visited both Nyc and Chicago\n",
    "list_nyc_bos = np.unique(list(df_user_profiles[df_user_profiles.city == 'New York'].merge(\n",
    "    df_user_profiles[df_user_profiles.city == 'Boston'][['user_id']], on='user_id',how='inner')['user_id']))\n",
    "\n",
    "# keep a list of user id that have been visited both boston and Chicago\n",
    "list_chi_bos = np.unique(list(df_user_profiles[df_user_profiles.city == 'Boston'].merge(\n",
    "    df_user_profiles[df_user_profiles.city == 'Chicago'][['user_id']], on='user_id',how='inner')['user_id']))\n",
    "\n",
    "print(len(list_nyc_chi), 'users traveled in both Chicago and New York City')\n",
    "print(len(list_nyc_bos), 'users traveled in both Boston and New York City')\n",
    "print(len(list_chi_bos), 'users traveled in both Boston and Chicago')"
   ]
  },
  {
   "cell_type": "code",
   "execution_count": null,
   "metadata": {
    "collapsed": true
   },
   "outputs": [],
   "source": []
  }
 ],
 "metadata": {
  "kernelspec": {
   "display_name": "Python 3",
   "language": "python",
   "name": "python3"
  },
  "language_info": {
   "codemirror_mode": {
    "name": "ipython",
    "version": 3
   },
   "file_extension": ".py",
   "mimetype": "text/x-python",
   "name": "python",
   "nbconvert_exporter": "python",
   "pygments_lexer": "ipython3",
   "version": "3.6.7"
  }
 },
 "nbformat": 4,
 "nbformat_minor": 2
}
